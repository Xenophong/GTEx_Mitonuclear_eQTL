{
 "cells": [
  {
   "cell_type": "code",
   "execution_count": 2,
   "metadata": {},
   "outputs": [
    {
     "data": {
      "image/png": "[encoded data removed]",
      "text/plain": [
       "<Figure size 510.236x170.079 with 1 Axes>"
      ]
     },
     "metadata": {
      "needs_background": "light"
     },
     "output_type": "display_data"
    }
   ],
   "source": [
    "import matplotlib as mpl\n",
    "full_width = 18\n",
    "cm = 1/2.54\n",
    "small_font = 6\n",
    "medium_font = 8\n",
    "large_font = 10\n",
    "mpl.rc('xtick', labelsize=small_font)\n",
    "mpl.rc('ytick', labelsize=small_font)\n",
    "mpl.rcParams['axes.linewidth'] = 0.4\n",
    "mpl.rcParams['ytick.major.size'] = 3\n",
    "mpl.rcParams['ytick.major.width'] = 0.5\n",
    "mpl.rcParams['ytick.minor.size'] = 2\n",
    "mpl.rcParams['ytick.minor.width'] = 0.3\n",
    "mpl.rcParams['xtick.major.size'] = 2\n",
    "mpl.rcParams['xtick.major.width'] = 0.3\n",
    "mpl.rcParams['xtick.minor.size'] = 1\n",
    "mpl.rcParams['xtick.minor.width'] = 0.1\n",
    "\n",
    "import matplotlib.pyplot as plt\n",
    "import matplotlib.patches as mpatches\n",
    "from matplotlib.lines import Line2D\n",
    "import pandas as pd\n",
    "import numpy as np\n",
    "\n",
    "stride = 16\n",
    "handles = []\n",
    "\n",
    "fig, ax = plt.subplots(figsize=(full_width*cm, 6*cm))\n",
    "\n",
    "for method, color, location in zip([\"mlp\", \"tag\"], [\"orange\", \"blue\"], [-0.15, 0.15]):\n",
    "    df = pd.read_csv(\"../mt_{}_benchmark_random_sets.tsv\".format(method), sep=\"\\t\", header=0, index_col=0)\n",
    "    previous = 0\n",
    "    nested_results= []\n",
    "    for i in range(stride, len(df)+1, stride):\n",
    "        nested_results.append(df.iloc[previous:i, :][\"auroc\"])\n",
    "        previous = i\n",
    "\n",
    "    bp = ax.boxplot(x=nested_results, positions=np.asarray(range(len(nested_results))) + location, widths=0.2, flierprops={'marker': 'o', 'markersize': 2})\n",
    "\n",
    "    for median in bp['medians']:\n",
    "        median.set(color=color,\n",
    "        linewidth=3, solid_capstyle=\"butt\")\n",
    "\n",
    "    for artist in bp['boxes']:\n",
    "        patch = mpatches.PathPatch(artist.get_path(), color=\"white\")\n",
    "        ax.add_artist(patch)\n",
    "\n",
    "handles = [Line2D([0], [0], color=\"orange\", lw=3),\n",
    "           Line2D([0], [0], color=\"blue\", lw=3)\n",
    "            ]\n",
    "\n",
    "labels = set([path.split(\"mt\")[2].split(\"rep\")[0].capitalize() for sets in nested_results for path in sets.index])\n",
    "\n",
    "ax.set_xticks( np.asarray(range(1, 28, 4)) + 0.5)\n",
    "ax.set_xticklabels(labels)\n",
    "\n",
    "ax.axvspan(3.5, 7.5, facecolor='lightgray', alpha=0.5, zorder=-1)\n",
    "\n",
    "ax.axvspan(11.5, 15.5, facecolor='lightgray', alpha=0.5, zorder=-1)\n",
    "\n",
    "ax.axvspan(19.5, 23.5, facecolor='lightgray', alpha=0.5, zorder=-1)\n",
    "ax.legend(handles, [\"Without Network\", \"With Network\"])\n",
    "ax.set_ylim(0.4, 1)\n",
    "ax.set_xlabel(\"Gene Set (or Random Control)\")\n",
    "ax.set_ylabel(\"AUROC\")\n",
    "plt.savefig(\"xeno_AUROC.svg\",  bbox_inches=\"tight\")"
   ]
  },
  {
   "cell_type": "code",
   "execution_count": 3,
   "metadata": {},
   "outputs": [
    {
     "data": {
      "image/png": "[encoded data removed]",
      "text/plain": [
       "<Figure size 510.236x170.079 with 1 Axes>"
      ]
     },
     "metadata": {
      "needs_background": "light"
     },
     "output_type": "display_data"
    }
   ],
   "source": [
    "import matplotlib.pyplot as plt\n",
    "import matplotlib.patches as mpatches\n",
    "from matplotlib.lines import Line2D\n",
    "import pandas as pd\n",
    "import numpy as np\n",
    "\n",
    "stride = 16\n",
    "\n",
    "\n",
    "fig, ax = plt.subplots(figsize=(full_width*cm, 6*cm))\n",
    "\n",
    "for method, color, location in zip([\"mlp\", \"tag\"], [\"orange\", \"blue\"], [-0.15,  0.15]):\n",
    "    df = pd.read_csv(\"../mt_{}_benchmark_random_sets.tsv\".format(method), sep=\"\\t\", header=0, index_col=0)\n",
    "    previous = 0\n",
    "    nested_results= []\n",
    "    for i in range(stride, len(df)+1, stride):\n",
    "        nested_results.append(df.iloc[previous:i, :][\"auprc\"])\n",
    "        previous = i\n",
    "\n",
    "    bp = ax.boxplot(x=nested_results, positions=np.asarray(range(len(nested_results))) + location, widths=0.2, flierprops={'marker': 'o', 'markersize': 2})\n",
    "\n",
    "    for median in bp['medians']:\n",
    "        median.set(color=color,\n",
    "        linewidth=3, solid_capstyle=\"butt\")\n",
    "\n",
    "    for artist in bp['boxes']:\n",
    "        patch = mpatches.PathPatch(artist.get_path(), color=\"white\")\n",
    "        ax.add_artist(patch)\n",
    "\n",
    "handles = [Line2D([0], [0], color=\"orange\", lw=3),\n",
    "           Line2D([0], [0], color=\"blue\", lw=3)\n",
    "            ]\n",
    "\n",
    "labels = set([path.split(\"mt\")[2].split(\"rep\")[0].capitalize() for sets in nested_results for path in sets.index])\n",
    "\n",
    "ax.set_xticks( np.asarray(range(1, 28, 4)) + 0.5)\n",
    "ax.set_xticklabels(labels)\n",
    "\n",
    "ax.axvspan(3.5, 7.5, facecolor='lightgray', alpha=0.5, zorder=-1)\n",
    "\n",
    "ax.axvspan(11.5, 15.5, facecolor='lightgray', alpha=0.5, zorder=-1)\n",
    "\n",
    "ax.axvspan(19.5, 23.5, facecolor='lightgray', alpha=0.5, zorder=-1)\n",
    "ax.legend(handles, [\"Without Network\", \"With Network\"])\n",
    "ax.set_ylim(0, 0.5)\n",
    "ax.set_xlabel(\"Gene Set (or Random Control)\")\n",
    "ax.set_ylabel(\"AUPRC\")\n",
    "plt.savefig(\"xeno_AUPRC.svg\", bbox_inches=\"tight\")\n"
   ]
  },
  {
   "cell_type": "code",
   "execution_count": null,
   "metadata": {},
   "outputs": [],
   "source": []
  }
 ],
 "metadata": {
  "kernelspec": {
   "display_name": "compat",
   "language": "python",
   "name": "python3"
  },
  "language_info": {
   "codemirror_mode": {
    "name": "ipython",
    "version": 3
   },
   "file_extension": ".py",
   "mimetype": "text/x-python",
   "name": "python",
   "nbconvert_exporter": "python",
   "pygments_lexer": "ipython3",
   "version": "3.7.12"
  }
 },
 "nbformat": 4,
 "nbformat_minor": 2
}
