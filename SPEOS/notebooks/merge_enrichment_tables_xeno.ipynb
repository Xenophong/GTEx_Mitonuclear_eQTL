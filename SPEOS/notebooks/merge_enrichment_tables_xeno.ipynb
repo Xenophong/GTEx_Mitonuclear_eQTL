{
 "cells": [
  {
   "cell_type": "code",
   "execution_count": 9,
   "metadata": {},
   "outputs": [],
   "source": [
    "import pandas as pd"
   ]
  },
  {
   "cell_type": "code",
   "execution_count": 4,
   "metadata": {},
   "outputs": [],
   "source": [
    "mlp = pd.read_csv(\"/project/genomics/xenofon/colab/SPEOS/tosave/results/centraldogma/highlevel/mtcentraldogma_mlp_eqtl_hpoea.tsv\", sep=\"\\t\", header=0, index_col=0)\n",
    "tag = pd.read_csv(\"/project/genomics/xenofon/colab/SPEOS/tosave/results/centraldogma/highlevel/mtcentraldogma_tag_eqtl_hpoea.tsv\", sep=\"\\t\", header=0, index_col=0)"
   ]
  },
  {
   "cell_type": "code",
   "execution_count": 5,
   "metadata": {},
   "outputs": [],
   "source": [
    "merged = mlp.join(tag, lsuffix=\"_mlp\", rsuffix=\"_tag\", how=\"inner\").sort_values(by=\"fdr_q_value_tag\")\n",
    "merged_top = merged.head(10)"
   ]
  },
  {
   "cell_type": "code",
   "execution_count": 8,
   "metadata": {},
   "outputs": [],
   "source": [
    "\n",
    "# in case you have speos installed, import image settings:\n",
    "from speos.visualization.settings import *\n",
    "# else uncomment the following: \n",
    "#import matplotlib as mpl\n",
    "#full_width = 18\n",
    "#cm = 1/2.54\n",
    "#small_font = 6\n",
    "#medium_font = 8\n",
    "#large_font = 10\n",
    "#mpl.rc('xtick', labelsize=small_font)\n",
    "#mpl.rc('ytick', labelsize=small_font)\n",
    "#mpl.rcParams['axes.linewidth'] = 0.4\n",
    "#mpl.rcParams['ytick.major.size'] = 3\n",
    "#mpl.rcParams['ytick.major.width'] = 0.5\n",
    "#mpl.rcParams['ytick.minor.size'] = 2\n",
    "#mpl.rcParams['ytick.minor.width'] = 0.3\n",
    "#mpl.rcParams['xtick.major.size'] = 2\n",
    "#mpl.rcParams['xtick.major.width'] = 0.3\n",
    "#mpl.rcParams['xtick.minor.size'] = 1\n",
    "#mpl.rcParams['xtick.minor.width'] = 0.1\n",
    "\n",
    "import matplotlib.pyplot as plt\n",
    "\n",
    "\n",
    "def colorFader(c1=\"#000000\", c2=\"#ffffff\", mix=0): #fade (linear interpolate) from color c1 (at mix=0) to c2 (mix=1)\n",
    "    import matplotlib as mpl\n",
    "    import numpy as np\n",
    "    c1=np.array(mpl.colors.to_rgb(c1))\n",
    "    c2=np.array(mpl.colors.to_rgb(c2))\n",
    "    return mpl.colors.to_hex((1-mix)*c1 + mix*c2)\n",
    "\n",
    "def get_gradient(value, min, max, gradients):\n",
    "    normalized_value = (value - min) / (max - min) \n",
    "    return gradients[0][int(normalized_value * 100)]\n",
    "\n",
    "def plot_enrichment(merged_df, base_color:str =\"#600F5C\"):\n",
    "    import numpy as np\n",
    "    import textwrap\n",
    "    import matplotlib as mpl\n",
    "\n",
    "    color_gradients = []\n",
    "    for colors in [base_color]:\n",
    "        color_gradients.append({x: colorFader(c1 = colors, mix = ((100-x)/100) * 0.85 ) for x in range(101)})\n",
    "\n",
    "    max_enrichment = max(merged_top[\"enrichment_mlp\"].max(), merged_top[\"enrichment_tag\"].max())\n",
    "    min_enrichment = min(merged_top[\"enrichment_mlp\"].min(), merged_top[\"enrichment_tag\"].min())\n",
    "\n",
    "    plt.rcParams['text.usetex'] = False\n",
    "\n",
    "    fig, ax = plt.subplots(1, 1, figsize=(full_width*cm*0.25, 10*cm))\n",
    "\n",
    "\n",
    "    y = np.arange(len(merged_df))[::-1]\n",
    "    offset = 0.2\n",
    "    width = 0.35\n",
    "\n",
    "    colors = [get_gradient(value, min_enrichment, max_enrichment, color_gradients) for value in merged_top[\"enrichment_tag\"]]\n",
    "    values = merged_top[\"log_q_tag\"]\n",
    "\n",
    "    ax.barh(y=y+offset, height=width, width=values, color=colors, edgecolor=\"black\", linewidth=0.5)\n",
    "\n",
    "    colors = [get_gradient(value, min_enrichment, max_enrichment, color_gradients) for value in merged_top[\"enrichment_mlp\"]]\n",
    "    values = merged_top[\"log_q_mlp\"]\n",
    "\n",
    "    ax.barh(y=y-offset, height=width, width=values, color=colors)\n",
    "    ax.set_xlabel(\"-log(FDR)\", fontsize=medium_font)\n",
    "    ax.set_yticks(y)\n",
    "    ax.set_yticklabels([textwrap.fill(e, 23) for e in merged_top[\"description_mlp\"]])\n",
    "\n",
    "    cmap = mpl.colors.ListedColormap(color_gradients[0].values())\n",
    "\n",
    "    norm = mpl.colors.Normalize(vmin=1, vmax=max_enrichment)\n",
    "\n",
    "    cmappable = mpl.cm.ScalarMappable(norm=norm, cmap=cmap)\n",
    "    cbar = fig.colorbar(cmappable,\n",
    "                                    ax=ax,\n",
    "                                    #label=,\n",
    "                                    ticks=range(1,19,2),\n",
    "                                    pad=0.00,\n",
    "                                    location=\"top\")\n",
    "    cbar.set_label(\"Fold Enrichment\", fontsize=medium_font)\n",
    "\n",
    "    return fig, ax\n"
   ]
  },
  {
   "cell_type": "code",
   "execution_count": 7,
   "metadata": {},
   "outputs": [
    {
     "data": {
      "image/png": "[encoded data removed]",
      "text/plain": [
       "<Figure size 127.559x283.465 with 2 Axes>"
      ]
     },
     "metadata": {
      "needs_background": "light"
     },
     "output_type": "display_data"
    }
   ],
   "source": [
    "fig, ax = plot_enrichment(merged_df=merged_top)\n",
    "\n",
    "plt.savefig(\"enrichment_gnn_vs_mlp_hpoea_mtcentraldogma.svg\", bbox_inches=\"tight\", dpi=450)\n"
   ]
  },
  {
   "cell_type": "markdown",
   "metadata": {},
   "source": [
    "## sort the other way around"
   ]
  },
  {
   "cell_type": "code",
   "execution_count": 16,
   "metadata": {},
   "outputs": [
    {
     "data": {
      "image/png": "[encoded data removed]",
      "text/plain": [
       "<Figure size 127.559x283.465 with 2 Axes>"
      ]
     },
     "metadata": {
      "needs_background": "light"
     },
     "output_type": "display_data"
    }
   ],
   "source": [
    "merged = mlp.join(tag, lsuffix=\"_mlp\", rsuffix=\"_tag\", how=\"inner\").sort_values(by=\"fdr_q_value_mlp\")\n",
    "merged_top = merged.head(10)\n",
    "fig, ax = plot_enrichment(merged_df=merged_top)"
   ]
  },
  {
   "cell_type": "markdown",
   "metadata": {},
   "source": [
    "# getting all at once"
   ]
  },
  {
   "cell_type": "code",
   "execution_count": 29,
   "metadata": {},
   "outputs": [],
   "source": [
    "# big loopy loop\n",
    "for geneset in [\"centraldogma\", \"dynamics\", \"metabolism\", \"oxphos\", \"proteinimport\", \"signaling\", \"smols\"]:\n",
    "    for onthology in [\"hpoea\", \"goea_biological_process\", \"pathwayea\"]:\n",
    "        mlp = pd.read_csv(\"/project/genomics/xenofon/colab/SPEOS/tosave/results/{}/highlevel/mt{}_mlp_eqtl_{}.tsv\".format(geneset, geneset, onthology), sep=\"\\t\", header=0, index_col=0)\n",
    "        tag = pd.read_csv(\"/project/genomics/xenofon/colab/SPEOS/tosave/results/{}/highlevel/mt{}_tag_eqtl_{}.tsv\".format(geneset, geneset, onthology), sep=\"\\t\", header=0, index_col=0)\n",
    "\n",
    "        merged = mlp.join(tag, lsuffix=\"_mlp\", rsuffix=\"_tag\", how=\"inner\").sort_values(by=\"fdr_q_value_tag\")\n",
    "        if len(merged) > 0:\n",
    "            merged_top = merged.head(10)\n",
    "            fig, ax = plot_enrichment(merged_df=merged_top)\n",
    "\n",
    "            plt.savefig(\"../plots/merged/enrichment_gnn_vs_mlp_{}_{}_sort_gnn.svg\".format(geneset, onthology), bbox_inches=\"tight\", dpi=450)\n",
    "\n",
    "            merged = mlp.join(tag, lsuffix=\"_mlp\", rsuffix=\"_tag\", how=\"inner\").sort_values(by=\"fdr_q_value_mlp\")\n",
    "            merged_top = merged.head(10)\n",
    "            fig, ax = plot_enrichment(merged_df=merged_top)\n",
    "            plt.savefig(\"../plots/merged/enrichment_gnn_vs_mlp_{}_{}_sort_mlp.svg\".format(geneset, onthology), bbox_inches=\"tight\", dpi=450)\n",
    "            \n",
    "        else:\n",
    "            continue\n",
    "\n",
    "        plt.close(\"all\")"
   ]
  },
  {
   "cell_type": "code",
   "execution_count": 6,
   "metadata": {},
   "outputs": [],
   "source": [
    "\n",
    "def get_gradient(value, min, max, gradients):\n",
    "    normalized_value = (value - min) / (max - min) \n",
    "    return gradients[0][int(normalized_value * 100)]\n",
    "\n",
    "def plot_enrichment(merged_df, base_color:str =\"#600F5C\"):\n",
    "    import numpy as np\n",
    "    import textwrap\n",
    "    import matplotlib as mpl\n",
    "\n",
    "    color_gradients = []\n",
    "    for colors in [base_color]:\n",
    "        color_gradients.append({x: colorFader(c1 = colors, mix = ((100-x)/100) * 0.85 ) for x in range(101)})\n",
    "\n",
    "    max_enrichment = max(merged_top[\"log_q_mlp\"].max(), merged_top[\"log_q_tag\"].max())\n",
    "    min_enrichment = min(merged_top[\"log_q_mlp\"].min(), merged_top[\"log_q_tag\"].min())\n",
    "\n",
    "    plt.rcParams['text.usetex'] = False\n",
    "\n",
    "    fig, ax = plt.subplots(1, 1, figsize=(full_width*cm*0.25, 10*cm))\n",
    "\n",
    "\n",
    "    y = np.arange(len(merged_df))[::-1]\n",
    "    offset = 0.2\n",
    "    width = 0.35\n",
    "\n",
    "    colors = [get_gradient(value, min_enrichment, max_enrichment, color_gradients) for value in merged_top[\"log_q_tag\"]]\n",
    "    values = merged_top[\"enrichment_tag\"]\n",
    "\n",
    "    ax.barh(y=y+offset, height=width, width=values, color=colors, edgecolor=\"black\", linewidth=0.5)\n",
    "\n",
    "    colors = [get_gradient(value, min_enrichment, max_enrichment, color_gradients) for value in merged_top[\"log_q_mlp\"]]\n",
    "    values = merged_top[\"enrichment_mlp\"]\n",
    "\n",
    "    ax.barh(y=y-offset, height=width, width=values, color=colors)\n",
    "    ax.set_xlabel(\"Fold Enrichment\", fontsize=medium_font)\n",
    "    ax.set_yticks(y)\n",
    "    ax.set_yticklabels([textwrap.fill(e, 23) for e in merged_top[\"description_mlp\"]])\n",
    "\n",
    "    cmap = mpl.colors.ListedColormap(color_gradients[0].values())\n",
    "\n",
    "    norm = mpl.colors.Normalize(vmin=1, vmax=max_enrichment)\n",
    "\n",
    "    cmappable = mpl.cm.ScalarMappable(norm=norm, cmap=cmap)\n",
    "    cbar = fig.colorbar(cmappable,\n",
    "                                    ax=ax,\n",
    "                                    #label=,\n",
    "                                    ticks=range(1,19,2),\n",
    "                                    pad=0.00,\n",
    "                                    location=\"top\")\n",
    "    cbar.set_label(\"-log(FDR)\", fontsize=medium_font)\n",
    "\n",
    "    return fig, ax"
   ]
  },
  {
   "cell_type": "code",
   "execution_count": 24,
   "metadata": {},
   "outputs": [],
   "source": [
    "# big loopy loop\n",
    "for geneset in [\"centraldogma\", \"dynamics\", \"metabolism\", \"oxphos\", \"proteinimport\", \"signaling\", \"smols\"]:\n",
    "    for onthology in [\"hpoea\", \"goea_biological_process\", \"pathwayea\"]:\n",
    "        mlp = pd.read_csv(\"/project/genomics/xenofon/colab/SPEOS/tosave/results/{}/highlevel/mt{}_mlp_eqtl_{}.tsv\".format(geneset, geneset, onthology), sep=\"\\t\", header=0, index_col=0)\n",
    "        tag = pd.read_csv(\"/project/genomics/xenofon/colab/SPEOS/tosave/results/{}/highlevel/mt{}_tag_eqtl_{}.tsv\".format(geneset, geneset, onthology), sep=\"\\t\", header=0, index_col=0)\n",
    "\n",
    "        merged = mlp.join(tag, lsuffix=\"_mlp\", rsuffix=\"_tag\", how=\"inner\").sort_values(by=\"enrichment_tag\", ascending=False)\n",
    "        if len(merged) > 0:\n",
    "            merged_top = merged.head(10)\n",
    "            fig, ax = plot_enrichment(merged_df=merged_top)\n",
    "\n",
    "            plt.savefig(\"../plots/merged/enrichment_by_fold_gnn_vs_mlp_{}_{}_sort_gnn.svg\".format(geneset, onthology), bbox_inches=\"tight\", dpi=450)\n",
    "\n",
    "            merged = mlp.join(tag, lsuffix=\"_mlp\", rsuffix=\"_tag\", how=\"inner\").sort_values(by=\"enrichment_mlp\", ascending=False)\n",
    "            merged_top = merged.head(10)\n",
    "            fig, ax = plot_enrichment(merged_df=merged_top)\n",
    "            plt.savefig(\"../plots/merged/enrichment_by_fold_gnn_vs_mlp_{}_{}_sort_mlp.svg\".format(geneset, onthology), bbox_inches=\"tight\", dpi=450)\n",
    "            \n",
    "        else:\n",
    "            continue\n",
    "\n",
    "        plt.close(\"all\")"
   ]
  },
  {
   "cell_type": "markdown",
   "metadata": {},
   "source": [
    "# allow non-significant terms"
   ]
  },
  {
   "cell_type": "code",
   "execution_count": 22,
   "metadata": {},
   "outputs": [
    {
     "name": "stderr",
     "output_type": "stream",
     "text": [
      "/home/icb/florin.ratajczak/anaconda3/envs/compat/lib/python3.7/site-packages/ipykernel_launcher.py:13: SettingWithCopyWarning: \n",
      "A value is trying to be set on a copy of a slice from a DataFrame\n",
      "\n",
      "See the caveats in the documentation: https://pandas.pydata.org/pandas-docs/stable/user_guide/indexing.html#returning-a-view-versus-a-copy\n",
      "  del sys.path[0]\n",
      "/home/icb/florin.ratajczak/anaconda3/envs/compat/lib/python3.7/site-packages/ipykernel_launcher.py:27: SettingWithCopyWarning: \n",
      "A value is trying to be set on a copy of a slice from a DataFrame\n",
      "\n",
      "See the caveats in the documentation: https://pandas.pydata.org/pandas-docs/stable/user_guide/indexing.html#returning-a-view-versus-a-copy\n"
     ]
    }
   ],
   "source": [
    "# big loopy loop\n",
    "import numpy as np\n",
    "for geneset in [\"centraldogma\", \"dynamics\", \"metabolism\", \"oxphos\", \"proteinimport\", \"signaling\", \"smols\"]:\n",
    "    for onthology in [\"hpoea\", \"goea_biological_process\", \"pathwayea\"]:\n",
    "         mlp = pd.read_csv(\"/project/genomics/xenofon/colab/SPEOS/tosave/results/{}/highlevel/mt{}_mlp_eqtl_{}.tsv\".format(geneset, geneset, onthology), sep=\"\\t\", header=0, index_col=0)\n",
    "        tag = pd.read_csv(\"/project/genomics/xenofon/colab/SPEOS/tosave/results/{}/highlevel/mt{}_tag_eqtl_{}.tsv\".format(geneset, geneset, onthology), sep=\"\\t\", header=0, index_col=0)\n",
    "\n",
    "        merged = mlp.join(tag, lsuffix=\"_mlp\", rsuffix=\"_tag\", how=\"outer\")\n",
    "        merged.enrichment_tag = merged.enrichment_tag.fillna(1)\n",
    "        merged.enrichment_mlp = merged.enrichment_mlp.fillna(1)\n",
    "        merged.log_q_mlp = merged.log_q_mlp.fillna(0)\n",
    "        merged.log_q_tag = merged.log_q_tag.fillna(0)\n",
    "        merged.description_mlp[merged.description_mlp.isna()] = merged.description_tag[merged.description_mlp.isna()]\n",
    "        merged = merged.sort_values(by=\"enrichment_tag\", ascending=False)\n",
    "        merged.replace([np.inf, -np.inf], 100, inplace=True)\n",
    "        if len(merged) > 0:\n",
    "            merged_top = merged.head(10)\n",
    "            fig, ax = plot_enrichment(merged_df=merged_top)\n",
    "\n",
    "            plt.savefig(\"../plots/merged/enrichment_by_fold_gnn_vs_mlp_{}_{}_sort_gnn_outer.svg\".format(geneset, onthology), bbox_inches=\"tight\", dpi=450)\n",
    "\n",
    "            merged = mlp.join(tag, lsuffix=\"_mlp\", rsuffix=\"_tag\", how=\"outer\")\n",
    "            merged.enrichment_tag = merged.enrichment_tag.fillna(1)\n",
    "            merged.enrichment_mlp = merged.enrichment_mlp.fillna(1)\n",
    "            merged.log_q_mlp = merged.log_q_mlp.fillna(0)\n",
    "            merged.log_q_tag = merged.log_q_tag.fillna(0)\n",
    "            merged.description_mlp[merged.description_mlp.isna()] = merged.description_tag[merged.description_mlp.isna()]\n",
    "            merged = merged.sort_values(by=\"enrichment_mlp\", ascending=False)\n",
    "            merged_top = merged.head(10)\n",
    "            fig, ax = plot_enrichment(merged_df=merged_top)\n",
    "            plt.savefig(\"../plots/merged/enrichment_by_fold_gnn_vs_mlp_{}_{}_sort_mlp_outer.svg\".format(geneset, onthology), bbox_inches=\"tight\", dpi=450)\n",
    "            \n",
    "        else:\n",
    "            continue\n",
    "\n",
    "        plt.close(\"all\")"
   ]
  },
  {
   "cell_type": "markdown",
   "metadata": {},
   "source": [
    "# get stats"
   ]
  },
  {
   "cell_type": "code",
   "execution_count": 12,
   "metadata": {},
   "outputs": [
    {
     "name": "stdout",
     "output_type": "stream",
     "text": [
      "centraldogma\n",
      "MLP: 1035 candidates\n",
      "GNN: 613 candidates\n",
      "Overlap Coefficient: 0.6411092985318108\n",
      "\n",
      "dynamics\n",
      "MLP: 2567 candidates\n",
      "GNN: 1441 candidates\n",
      "Overlap Coefficient: 0.7779319916724496\n",
      "\n",
      "metabolism\n",
      "MLP: 1496 candidates\n",
      "GNN: 1397 candidates\n",
      "Overlap Coefficient: 0.6113099498926271\n",
      "\n",
      "oxphos\n",
      "MLP: 1274 candidates\n",
      "GNN: 261 candidates\n",
      "Overlap Coefficient: 0.42528735632183906\n",
      "\n",
      "proteinimport\n",
      "MLP: 425 candidates\n",
      "GNN: 528 candidates\n",
      "Overlap Coefficient: 0.20705882352941177\n",
      "\n",
      "signaling\n",
      "MLP: 1895 candidates\n",
      "GNN: 1308 candidates\n",
      "Overlap Coefficient: 0.8853211009174312\n",
      "\n",
      "smols\n",
      "MLP: 2680 candidates\n",
      "GNN: 2664 candidates\n",
      "Overlap Coefficient: 0.3322072072072072\n",
      "\n"
     ]
    }
   ],
   "source": [
    "import json\n",
    "for geneset in [\"centraldogma\", \"dynamics\", \"metabolism\", \"oxphos\", \"proteinimport\", \"signaling\", \"smols\"]:\n",
    "    with open(\"/project/genomics/xenofon/colab/SPEOS/tosave/results/{}/highlevel/mt{}_mlp_eqtlouter_results.json\".format(geneset, geneset), \"r\") as file:\n",
    "        mlp = set(json.load(file)[0].keys())\n",
    "    with open(\"/project/genomics/xenofon/colab/SPEOS/tosave/results/{}/highlevel/mt{}_tag_eqtlouter_results.json\".format(geneset, geneset), \"r\") as file:\n",
    "        tag = set(json.load(file)[0].keys())\n",
    "\n",
    "    print(geneset)\n",
    "    print(\"MLP: {} candidates\".format(len(mlp)))\n",
    "    print(\"GNN: {} candidates\".format(len(tag)))\n",
    "    print(\"Overlap Coefficient: {}\".format( len(mlp.intersection(tag)) / min(len(mlp), len(tag))))\n",
    "    print(\"\")"
   ]
  },
  {
   "cell_type": "code",
   "execution_count": null,
   "metadata": {},
   "outputs": [],
   "source": []
  }
 ],
 "metadata": {
  "kernelspec": {
   "display_name": "compat",
   "language": "python",
   "name": "python3"
  },
  "language_info": {
   "codemirror_mode": {
    "name": "ipython",
    "version": 3
   },
   "file_extension": ".py",
   "mimetype": "text/x-python",
   "name": "python",
   "nbconvert_exporter": "python",
   "pygments_lexer": "ipython3",
   "version": "3.7.12"
  }
 },
 "nbformat": 4,
 "nbformat_minor": 2
}
