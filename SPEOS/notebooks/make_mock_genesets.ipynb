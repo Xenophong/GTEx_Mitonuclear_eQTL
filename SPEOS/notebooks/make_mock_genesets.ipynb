{
 "cells": [
  {
   "cell_type": "code",
   "execution_count": 1,
   "metadata": {},
   "outputs": [],
   "source": [
    "import os\n",
    "\n",
    "os.chdir(\"..\")\n",
    "\n",
    "from speos.preprocessing.handler import InputHandler\n",
    "from speos.utils.config import Config\n",
    "import numpy as np\n"
   ]
  },
  {
   "cell_type": "code",
   "execution_count": 3,
   "metadata": {},
   "outputs": [
    {
     "name": "stderr",
     "output_type": "stream",
     "text": [
      "mtcentraldogma_tag_eqtl 2024-06-07 11:43:29,294 [INFO] speos.preprocessing.preprocessor: Number of positives in ground truth mtcentraldogma: 306\n",
      "mtcentraldogma_tag_eqtl 2024-06-07 11:43:51,187 [INFO] speos.preprocessing.preprocessor: Using Adjacency matrices: ['mtTransEQTL']\n"
     ]
    },
    {
     "name": "stdout",
     "output_type": "stream",
     "text": [
      "centraldogma\n",
      "mtcentraldogma\n"
     ]
    },
    {
     "name": "stderr",
     "output_type": "stream",
     "text": [
      "mtcentraldogma_tag_eqtl 2024-06-07 11:43:51,188 [INFO] speos.preprocessing.preprocessor: Using 1 mappings with ground truth mtcentraldogma \n"
     ]
    },
    {
     "name": "stdout",
     "output_type": "stream",
     "text": [
      "306\n"
     ]
    },
    {
     "name": "stderr",
     "output_type": "stream",
     "text": [
      "mtcentraldogma_tag_eqtl 2024-06-07 11:44:03,982 [INFO] speos.preprocessing.preprocessor: Name: \n",
      "Type: MultiDiGraph\n",
      "Number of nodes: 18638\n",
      "Number of edges: 167716\n",
      "Average in degree:   8.9986\n",
      "Average out degree:   8.9986\n",
      "mtcentraldogma_tag_eqtl 2024-06-07 11:44:04,281 [INFO] speos.preprocessing.preprocessor: Number of positives in ground truth mtcentraldogma: 306\n",
      "mtdynamics_tag_eqtl 2024-06-07 11:44:04,327 [INFO] speos.preprocessing.preprocessor: Using Adjacency matrices: ['mtTransEQTL']\n"
     ]
    },
    {
     "name": "stdout",
     "output_type": "stream",
     "text": [
      "306\n",
      "dynamics\n",
      "mtdynamic\n"
     ]
    },
    {
     "name": "stderr",
     "output_type": "stream",
     "text": [
      "mtdynamics_tag_eqtl 2024-06-07 11:44:04,374 [INFO] speos.preprocessing.preprocessor: Using 1 mappings with ground truth mtdynamics \n"
     ]
    },
    {
     "name": "stdout",
     "output_type": "stream",
     "text": [
      "100\n"
     ]
    },
    {
     "name": "stderr",
     "output_type": "stream",
     "text": [
      "mtdynamics_tag_eqtl 2024-06-07 11:44:16,868 [INFO] speos.preprocessing.preprocessor: Name: \n",
      "Type: MultiDiGraph\n",
      "Number of nodes: 18638\n",
      "Number of edges: 167716\n",
      "Average in degree:   8.9986\n",
      "Average out degree:   8.9986\n",
      "mtdynamics_tag_eqtl 2024-06-07 11:44:17,358 [INFO] speos.preprocessing.preprocessor: Number of positives in ground truth mtdynamics: 100\n",
      "mtmetabolism_tag_eqtl 2024-06-07 11:44:17,405 [INFO] speos.preprocessing.preprocessor: Using Adjacency matrices: ['mtTransEQTL']\n"
     ]
    },
    {
     "name": "stdout",
     "output_type": "stream",
     "text": [
      "100\n",
      "metabolism\n",
      "mtmetabolism\n"
     ]
    },
    {
     "name": "stderr",
     "output_type": "stream",
     "text": [
      "mtmetabolism_tag_eqtl 2024-06-07 11:44:17,461 [INFO] speos.preprocessing.preprocessor: Using 1 mappings with ground truth mtmetabolism \n"
     ]
    },
    {
     "name": "stdout",
     "output_type": "stream",
     "text": [
      "497\n"
     ]
    },
    {
     "name": "stderr",
     "output_type": "stream",
     "text": [
      "mtmetabolism_tag_eqtl 2024-06-07 11:44:29,941 [INFO] speos.preprocessing.preprocessor: Name: \n",
      "Type: MultiDiGraph\n",
      "Number of nodes: 18638\n",
      "Number of edges: 167716\n",
      "Average in degree:   8.9986\n",
      "Average out degree:   8.9986\n",
      "mtmetabolism_tag_eqtl 2024-06-07 11:44:30,256 [INFO] speos.preprocessing.preprocessor: Number of positives in ground truth mtmetabolism: 497\n",
      "mtoxphos_tag_eqtl 2024-06-07 11:44:30,325 [INFO] speos.preprocessing.preprocessor: Using Adjacency matrices: ['mtTransEQTL']\n"
     ]
    },
    {
     "name": "stdout",
     "output_type": "stream",
     "text": [
      "497\n",
      "oxphos\n",
      "mtoxphos\n"
     ]
    },
    {
     "name": "stderr",
     "output_type": "stream",
     "text": [
      "mtoxphos_tag_eqtl 2024-06-07 11:44:30,371 [INFO] speos.preprocessing.preprocessor: Using 1 mappings with ground truth mtoxphos \n"
     ]
    },
    {
     "name": "stdout",
     "output_type": "stream",
     "text": [
      "596\n"
     ]
    },
    {
     "name": "stderr",
     "output_type": "stream",
     "text": [
      "mtoxphos_tag_eqtl 2024-06-07 11:44:43,050 [INFO] speos.preprocessing.preprocessor: Name: \n",
      "Type: MultiDiGraph\n",
      "Number of nodes: 18638\n",
      "Number of edges: 167716\n",
      "Average in degree:   8.9986\n",
      "Average out degree:   8.9986\n",
      "mtoxphos_tag_eqtl 2024-06-07 11:44:43,342 [INFO] speos.preprocessing.preprocessor: Number of positives in ground truth mtoxphos: 596\n",
      "mtproteinimport_tag_eqtl 2024-06-07 11:44:43,447 [INFO] speos.preprocessing.preprocessor: Using Adjacency matrices: ['mtTransEQTL']\n"
     ]
    },
    {
     "name": "stdout",
     "output_type": "stream",
     "text": [
      "596\n",
      "proteinimport\n",
      "mtproteinimport\n"
     ]
    },
    {
     "name": "stderr",
     "output_type": "stream",
     "text": [
      "mtproteinimport_tag_eqtl 2024-06-07 11:44:43,505 [INFO] speos.preprocessing.preprocessor: Using 1 mappings with ground truth mtproteinimport \n"
     ]
    },
    {
     "name": "stdout",
     "output_type": "stream",
     "text": [
      "245\n"
     ]
    },
    {
     "name": "stderr",
     "output_type": "stream",
     "text": [
      "mtproteinimport_tag_eqtl 2024-06-07 11:44:55,814 [INFO] speos.preprocessing.preprocessor: Name: \n",
      "Type: MultiDiGraph\n",
      "Number of nodes: 18638\n",
      "Number of edges: 167716\n",
      "Average in degree:   8.9986\n",
      "Average out degree:   8.9986\n",
      "mtproteinimport_tag_eqtl 2024-06-07 11:44:56,108 [INFO] speos.preprocessing.preprocessor: Number of positives in ground truth mtproteinimport: 245\n",
      "mtsignaling_tag_eqtl 2024-06-07 11:44:56,171 [INFO] speos.preprocessing.preprocessor: Using Adjacency matrices: ['mtTransEQTL']\n"
     ]
    },
    {
     "name": "stdout",
     "output_type": "stream",
     "text": [
      "245\n",
      "signaling\n",
      "mtsignaling\n"
     ]
    },
    {
     "name": "stderr",
     "output_type": "stream",
     "text": [
      "mtsignaling_tag_eqtl 2024-06-07 11:44:56,199 [INFO] speos.preprocessing.preprocessor: Using 1 mappings with ground truth mtsignaling \n"
     ]
    },
    {
     "name": "stdout",
     "output_type": "stream",
     "text": [
      "133\n"
     ]
    },
    {
     "name": "stderr",
     "output_type": "stream",
     "text": [
      "mtsignaling_tag_eqtl 2024-06-07 11:45:08,616 [INFO] speos.preprocessing.preprocessor: Name: \n",
      "Type: MultiDiGraph\n",
      "Number of nodes: 18638\n",
      "Number of edges: 167716\n",
      "Average in degree:   8.9986\n",
      "Average out degree:   8.9986\n",
      "mtsignaling_tag_eqtl 2024-06-07 11:45:08,915 [INFO] speos.preprocessing.preprocessor: Number of positives in ground truth mtsignaling: 133\n",
      "mtsmols_tag_eqtl 2024-06-07 11:45:08,966 [INFO] speos.preprocessing.preprocessor: Using Adjacency matrices: ['mtTransEQTL']\n"
     ]
    },
    {
     "name": "stdout",
     "output_type": "stream",
     "text": [
      "133\n",
      "smols\n",
      "mtsmols\n"
     ]
    },
    {
     "name": "stderr",
     "output_type": "stream",
     "text": [
      "mtsmols_tag_eqtl 2024-06-07 11:45:09,007 [INFO] speos.preprocessing.preprocessor: Using 1 mappings with ground truth mtsmols \n"
     ]
    },
    {
     "name": "stdout",
     "output_type": "stream",
     "text": [
      "101\n"
     ]
    },
    {
     "name": "stderr",
     "output_type": "stream",
     "text": [
      "mtsmols_tag_eqtl 2024-06-07 11:45:21,527 [INFO] speos.preprocessing.preprocessor: Name: \n",
      "Type: MultiDiGraph\n",
      "Number of nodes: 18638\n",
      "Number of edges: 167716\n",
      "Average in degree:   8.9986\n",
      "Average out degree:   8.9986\n"
     ]
    },
    {
     "name": "stdout",
     "output_type": "stream",
     "text": [
      "101\n"
     ]
    }
   ],
   "source": [
    "\n",
    "for geneset in [\"centraldogma\", \"dynamics\", \"metabolism\", \"oxphos\", \"proteinimport\", \"signaling\", \"smols\"]:\n",
    "    print(geneset)\n",
    "    config = Config()\n",
    "    config.parse_yaml(\"{}_tag.yaml\".format(geneset))\n",
    "\n",
    "    print(config.input.tag)\n",
    "    preprocessor = InputHandler(config).get_preprocessor()\n",
    "    preprocessor.build_graph()\n",
    "\n",
    "    pos, neg = preprocessor.find_pos_and_neg_idx()\n",
    "    print(len(pos))\n",
    "\n",
    "    x, y, adj = preprocessor.get_data()\n",
    "\n",
    "    print(y.sum())\n",
    "    for i in range(3):\n",
    "        mock_genes = [preprocessor.id2hgnc[_id] for _id in np.random.choice(neg, len(pos))]\n",
    "        with open(\"extensions/random_{}_{}.tsv\".format(geneset, i), \"w\") as file:\n",
    "            file.write(\"\\n\".join(mock_genes))"
   ]
  },
  {
   "cell_type": "markdown",
   "metadata": {},
   "source": [
    "# check overlap between sets"
   ]
  },
  {
   "cell_type": "code",
   "execution_count": 4,
   "metadata": {},
   "outputs": [],
   "source": [
    "from extensions.preprocessing import test_preprocess_labels\n",
    "\n",
    "oxphos = test_preprocess_labels(\"extensions/OXPHOS_genes.txt\")\n",
    "metabolism = test_preprocess_labels(\"extensions/Metabolism_genes.txt\")"
   ]
  },
  {
   "cell_type": "code",
   "execution_count": 5,
   "metadata": {},
   "outputs": [
    {
     "data": {
      "text/plain": [
       "605"
      ]
     },
     "execution_count": 5,
     "metadata": {},
     "output_type": "execute_result"
    }
   ],
   "source": [
    "len(oxphos)"
   ]
  },
  {
   "cell_type": "code",
   "execution_count": 6,
   "metadata": {},
   "outputs": [
    {
     "data": {
      "text/plain": [
       "505"
      ]
     },
     "execution_count": 6,
     "metadata": {},
     "output_type": "execute_result"
    }
   ],
   "source": [
    "len(metabolism)"
   ]
  },
  {
   "cell_type": "code",
   "execution_count": 7,
   "metadata": {},
   "outputs": [
    {
     "data": {
      "text/plain": [
       "461"
      ]
     },
     "execution_count": 7,
     "metadata": {},
     "output_type": "execute_result"
    }
   ],
   "source": [
    "len(oxphos.intersection(metabolism))"
   ]
  },
  {
   "cell_type": "code",
   "execution_count": 9,
   "metadata": {},
   "outputs": [],
   "source": [
    "smols = test_preprocess_labels(\"extensions/Small_molecule_transport_genes.txt\")"
   ]
  },
  {
   "cell_type": "code",
   "execution_count": 10,
   "metadata": {},
   "outputs": [
    {
     "data": {
      "text/plain": [
       "102"
      ]
     },
     "execution_count": 10,
     "metadata": {},
     "output_type": "execute_result"
    }
   ],
   "source": [
    "len(smols)"
   ]
  },
  {
   "cell_type": "code",
   "execution_count": 11,
   "metadata": {},
   "outputs": [
    {
     "data": {
      "text/plain": [
       "40"
      ]
     },
     "execution_count": 11,
     "metadata": {},
     "output_type": "execute_result"
    }
   ],
   "source": [
    "len(oxphos.intersection(smols))"
   ]
  },
  {
   "cell_type": "code",
   "execution_count": null,
   "metadata": {},
   "outputs": [],
   "source": []
  }
 ],
 "metadata": {
  "kernelspec": {
   "display_name": "compat",
   "language": "python",
   "name": "python3"
  },
  "language_info": {
   "codemirror_mode": {
    "name": "ipython",
    "version": 3
   },
   "file_extension": ".py",
   "mimetype": "text/x-python",
   "name": "python",
   "nbconvert_exporter": "python",
   "pygments_lexer": "ipython3",
   "version": "3.7.12"
  }
 },
 "nbformat": 4,
 "nbformat_minor": 2
}
